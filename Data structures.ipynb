{
 "cells": [
  {
   "cell_type": "code",
   "execution_count": 3,
   "metadata": {},
   "outputs": [
    {
     "name": "stdout",
     "output_type": "stream",
     "text": [
      "Hello, Josh! Douzo youroshiko!\n"
     ]
    }
   ],
   "source": [
    "user_name = input(\"Please enter your name : \")\n",
    "\n",
    "print(f\"Hello, {user_name}! Douzo youroshiko!\")"
   ]
  },
  {
   "cell_type": "code",
   "execution_count": 4,
   "metadata": {},
   "outputs": [
    {
     "name": "stdout",
     "output_type": "stream",
     "text": [
      "name = 'John'\n",
      "age = 30\n",
      "score = 88\n",
      "is_passing = True\n"
     ]
    }
   ],
   "source": [
    "# Data types - Basic\n",
    "\n",
    "age = 30\n",
    "score = 88\n",
    "name = \"John\"\n",
    "is_student = True\n",
    "\n",
    "passing_threshold = 60\n",
    "is_passing = score >= passing_threshold\n",
    "\n",
    "print(f\"{name = }\")\n",
    "print(f\"{age = }\")\n",
    "print(f\"{score = }\")\n",
    "print(f\"{is_passing = }\")"
   ]
  },
  {
   "cell_type": "code",
   "execution_count": 5,
   "metadata": {},
   "outputs": [],
   "source": [
    "# Data types - Part 2\n",
    "\n",
    "# List\n",
    "\n",
    "student_names = [\"Alice\", \"Bob\", \"Charlie\", \"David\"]"
   ]
  },
  {
   "cell_type": "code",
   "execution_count": 6,
   "metadata": {},
   "outputs": [],
   "source": [
    "# Tuples\n",
    "\n",
    "student_scores = (85,92,78,88)"
   ]
  },
  {
   "cell_type": "code",
   "execution_count": 7,
   "metadata": {},
   "outputs": [],
   "source": [
    "# Dictionaries\n",
    "\n",
    "student_info = {'Alice' : 85, 'Bob' : 92, 'Charlie' : 78, 'David' : 88}"
   ]
  },
  {
   "cell_type": "code",
   "execution_count": 9,
   "metadata": {},
   "outputs": [
    {
     "name": "stdout",
     "output_type": "stream",
     "text": [
      "{'Alice': 85, 'Bob': 92, 'Charlie': 78, 'David': 88}\n"
     ]
    }
   ],
   "source": [
    "# Dictionary comprehensions\n",
    "\n",
    "student_info = {name : score for name, score in zip(student_names, student_scores)}\n",
    "print(student_info)"
   ]
  },
  {
   "cell_type": "code",
   "execution_count": 12,
   "metadata": {},
   "outputs": [
    {
     "name": "stdout",
     "output_type": "stream",
     "text": [
      "Congrats! You passed\n"
     ]
    }
   ],
   "source": [
    "# CONTROL STRUCTURES\n",
    "\n",
    "    # IF\n",
    "    \n",
    "score = 75\n",
    "    \n",
    "if score >= 60:\n",
    "        print ('Congrats! You passed')\n"
   ]
  },
  {
   "cell_type": "code",
   "execution_count": 13,
   "metadata": {},
   "outputs": [
    {
     "name": "stdout",
     "output_type": "stream",
     "text": [
      "Sorry, you did not pass the exam\n"
     ]
    }
   ],
   "source": [
    "# If - Else\n",
    "\n",
    "score = 45\n",
    "\n",
    "if score >= 60:\n",
    "    print(\"Congratulations! You've passed the exam\")\n",
    "    \n",
    "else:\n",
    "    print(\"Sorry, you did not pass the exam\")"
   ]
  },
  {
   "cell_type": "code",
   "execution_count": 14,
   "metadata": {},
   "outputs": [
    {
     "name": "stdout",
     "output_type": "stream",
     "text": [
      "Good job! You've got a B\n"
     ]
    }
   ],
   "source": [
    "# If - elif - else\n",
    "\n",
    "score = 82\n",
    "\n",
    "if score >= 90:\n",
    "    print(\"Excellent! You've got an A!\")\n",
    "elif score >= 80:\n",
    "    print(\"Good job! You've got a B\")\n",
    "elif score >= 70:\n",
    "    print(\"Not bad! you've got a C\")\n",
    "else:\n",
    "    print(\"You need to improve. You've got a F\")"
   ]
  },
  {
   "cell_type": "code",
   "execution_count": 17,
   "metadata": {},
   "outputs": [
    {
     "name": "stdout",
     "output_type": "stream",
     "text": [
      "This message is for Alice alone\n"
     ]
    }
   ],
   "source": [
    "# Nested If statements : When you need to check multiple conditions within another condition.\n",
    "\n",
    "name = \"Alce\"\n",
    "score = 75\n",
    "\n",
    "if name == \"Alice\":\n",
    "    if score >= 80:\n",
    "        print(\"Great job Alice! You've got an A\")\n",
    "    else:\n",
    "        print(\"You can do better Alice\")\n",
    "else:\n",
    "     print(\"This message is for Alice alone\")\n",
    "        "
   ]
  },
  {
   "cell_type": "code",
   "execution_count": 18,
   "metadata": {},
   "outputs": [
    {
     "name": "stdout",
     "output_type": "stream",
     "text": [
      "Student :  Alice\n",
      "Student :  Bob\n",
      "Student :  Charlie\n",
      "Student :  David\n"
     ]
    }
   ],
   "source": [
    "# For Loop : Concise syntax lets us iterate over existing iterables\n",
    "\n",
    "for name in student_names:\n",
    "    print(\"Student : \", name)"
   ]
  },
  {
   "cell_type": "code",
   "execution_count": 19,
   "metadata": {},
   "outputs": [
    {
     "name": "stdout",
     "output_type": "stream",
     "text": [
      "Student: Alice\n",
      "Student: Bob\n",
      "Student: Charlie\n",
      "Student: David\n"
     ]
    }
   ],
   "source": [
    "# While loop : If you want to execute a piece of code as long as a condition is true \n",
    "\n",
    "index = 0\n",
    "\n",
    "while index < len(student_names):\n",
    "    print(\"Student:\", student_names[index])\n",
    "    index += 1"
   ]
  },
  {
   "cell_type": "code",
   "execution_count": null,
   "metadata": {},
   "outputs": [],
   "source": []
  }
 ],
 "metadata": {
  "kernelspec": {
   "display_name": "base",
   "language": "python",
   "name": "python3"
  },
  "language_info": {
   "codemirror_mode": {
    "name": "ipython",
    "version": 3
   },
   "file_extension": ".py",
   "mimetype": "text/x-python",
   "name": "python",
   "nbconvert_exporter": "python",
   "pygments_lexer": "ipython3",
   "version": "3.10.9"
  },
  "orig_nbformat": 4
 },
 "nbformat": 4,
 "nbformat_minor": 2
}
