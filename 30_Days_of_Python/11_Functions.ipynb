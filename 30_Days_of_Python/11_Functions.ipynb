{
  "nbformat": 4,
  "nbformat_minor": 0,
  "metadata": {
    "colab": {
      "provenance": [],
      "authorship_tag": "ABX9TyPGr+oo0YzzaEMQHBt/mTIU",
      "include_colab_link": true
    },
    "kernelspec": {
      "name": "python3",
      "display_name": "Python 3"
    },
    "language_info": {
      "name": "python"
    }
  },
  "cells": [
    {
      "cell_type": "markdown",
      "metadata": {
        "id": "view-in-github",
        "colab_type": "text"
      },
      "source": [
        "<a href=\"https://colab.research.google.com/github/datxander/Back-to-basics/blob/main/30_Days_of_Python/11_Functions.ipynb\" target=\"_parent\"><img src=\"https://colab.research.google.com/assets/colab-badge.svg\" alt=\"Open In Colab\"/></a>"
      ]
    },
    {
      "cell_type": "markdown",
      "source": [
        "**Function definition**\n",
        "\n",
        "A function is a reusable block of code or programming statements designed to perform a certain task. To define or declare a function, Python provides the def keyword. The function block of code is executed only if the function is called or invoked."
      ],
      "metadata": {
        "id": "SsenrlrZifqw"
      }
    },
    {
      "cell_type": "code",
      "source": [
        "# Functions can be defined with or without parameters\n",
        "\n",
        "def force_multiplier():\n",
        "  f1 = 12\n",
        "  f2 = 13\n",
        "  fm = f1 * f2\n",
        "  print(fm)"
      ],
      "metadata": {
        "id": "I0pBkeRkisJY"
      },
      "execution_count": 3,
      "outputs": []
    },
    {
      "cell_type": "code",
      "source": [
        "force_multiplier()"
      ],
      "metadata": {
        "colab": {
          "base_uri": "https://localhost:8080/"
        },
        "id": "Vq1QC5JXi6kI",
        "outputId": "9a4cc8cc-1ce9-4efa-d72f-200615752027"
      },
      "execution_count": 4,
      "outputs": [
        {
          "output_type": "execute_result",
          "data": {
            "text/plain": [
              "156"
            ]
          },
          "metadata": {},
          "execution_count": 4
        }
      ]
    },
    {
      "cell_type": "code",
      "source": [
        "# Return : Function can also return values, if a function does not have a return statement, the value of the function is None.\n",
        "\n",
        "def force_multiplier():\n",
        "  f1 = 12\n",
        "  f2 = 13\n",
        "  fm = f1 * f2\n",
        "  return fm\n",
        "\n",
        "print(force_multiplier())\n",
        "\n"
      ],
      "metadata": {
        "colab": {
          "base_uri": "https://localhost:8080/"
        },
        "id": "OIJP3Ssbi8_H",
        "outputId": "e114cd30-9803-4830-9dbe-e835a40cf570"
      },
      "execution_count": 5,
      "outputs": [
        {
          "output_type": "stream",
          "name": "stdout",
          "text": [
            "156\n"
          ]
        }
      ]
    },
    {
      "cell_type": "code",
      "source": [
        "# Functions with parameters\n",
        "\n",
        "def hello(planet):\n",
        "  message = \"Hello \" + planet + \"!\"\n",
        "  return message\n",
        "\n",
        "print(hello(\"World\"))"
      ],
      "metadata": {
        "colab": {
          "base_uri": "https://localhost:8080/"
        },
        "id": "fh2Ika6zjs-_",
        "outputId": "7280c1f2-3a73-4de6-8962-4059262a2f11"
      },
      "execution_count": 6,
      "outputs": [
        {
          "output_type": "stream",
          "name": "stdout",
          "text": [
            "Hello World!\n"
          ]
        }
      ]
    },
    {
      "cell_type": "code",
      "source": [
        "def cube(x):\n",
        "  y = x ** 3\n",
        "  return y\n",
        "\n",
        "print(cube(32))\n",
        "\n",
        "\n",
        "\n"
      ],
      "metadata": {
        "colab": {
          "base_uri": "https://localhost:8080/"
        },
        "id": "KwVSUvFlkLBf",
        "outputId": "8648a499-42fb-4a19-88c0-6e550aa72cf7"
      },
      "execution_count": 7,
      "outputs": [
        {
          "output_type": "stream",
          "name": "stdout",
          "text": [
            "32768\n"
          ]
        }
      ]
    },
    {
      "cell_type": "code",
      "source": [
        "# Functions with 2 parameters\n",
        "\n",
        "def mom_is_mad(first_name, last_name):\n",
        "  return print(first_name + \" \" + last_name + \"!\")\n",
        "\n",
        "mom_is_mad(\"Dante\", \"Allegri\")"
      ],
      "metadata": {
        "colab": {
          "base_uri": "https://localhost:8080/"
        },
        "id": "g-PTs_gekd92",
        "outputId": "808d6851-305d-4a05-be1f-6d847d544b8b"
      },
      "execution_count": 8,
      "outputs": [
        {
          "output_type": "stream",
          "name": "stdout",
          "text": [
            "Dante Allegri!\n"
          ]
        }
      ]
    },
    {
      "cell_type": "code",
      "source": [
        "def age(current_year, birth_year):\n",
        "  y = current_year - birth_year\n",
        "  return y\n",
        "\n",
        "print(age(2024, 1999))"
      ],
      "metadata": {
        "colab": {
          "base_uri": "https://localhost:8080/"
        },
        "id": "0FAQXno4lCW-",
        "outputId": "2349ad46-1f8a-4ccc-85d9-728dd0239749"
      },
      "execution_count": 10,
      "outputs": [
        {
          "output_type": "stream",
          "name": "stdout",
          "text": [
            "25\n"
          ]
        }
      ]
    },
    {
      "cell_type": "code",
      "source": [
        "# A function that returns a list\n",
        "\n",
        "def unlucky_multiples(num):\n",
        "  unluck = []\n",
        "  for i in range(num - 5, num + 5):\n",
        "    unluck.append(i*13)\n",
        "  return unluck\n",
        "\n",
        "print(unlucky_multiples(13))\n",
        "\n"
      ],
      "metadata": {
        "colab": {
          "base_uri": "https://localhost:8080/"
        },
        "id": "Es1hdFE7lecG",
        "outputId": "83de798d-f1e4-4919-c8c9-bc0e343145e2"
      },
      "execution_count": 11,
      "outputs": [
        {
          "output_type": "stream",
          "name": "stdout",
          "text": [
            "[104, 117, 130, 143, 156, 169, 182, 195, 208, 221]\n"
          ]
        }
      ]
    },
    {
      "cell_type": "code",
      "source": [
        "# Arbitrary number of arguments\n",
        "\n",
        "def sabkuch(*nums):\n",
        "  total = 1\n",
        "  for num in nums:\n",
        "    total *= num\n",
        "  return total\n",
        "\n",
        "print(sabkuch(13, 42, 53, 14, 5))"
      ],
      "metadata": {
        "colab": {
          "base_uri": "https://localhost:8080/"
        },
        "id": "U71jJwoxoWjF",
        "outputId": "c18bc1c4-e287-4eef-dde5-a27a9a09421f"
      },
      "execution_count": 12,
      "outputs": [
        {
          "output_type": "stream",
          "name": "stdout",
          "text": [
            "2025660\n"
          ]
        }
      ]
    },
    {
      "cell_type": "code",
      "source": [
        "# A function can also be a parameter to another function\n",
        "\n",
        "def square_it(x):\n",
        "  return x ** 2\n",
        "\n",
        "def threeple(y):\n",
        "  return y * 3\n",
        "\n",
        "print(threeple(square_it(42)))"
      ],
      "metadata": {
        "colab": {
          "base_uri": "https://localhost:8080/"
        },
        "id": "kqm4T1a3pBld",
        "outputId": "4c60d5cd-0cd7-4c40-aa2f-a7f124e27895"
      },
      "execution_count": 13,
      "outputs": [
        {
          "output_type": "stream",
          "name": "stdout",
          "text": [
            "5292\n"
          ]
        }
      ]
    },
    {
      "cell_type": "code",
      "source": [
        "# Exercises\n",
        "\n",
        "# Declare a function add_two_numbers. It takes two parameters and it returns a sum.\n",
        "# Area of a circle is calculated as follows: area = π x r x r. Write a function that calculates area_of_circle.\n",
        "# Write a function called add_all_nums which takes arbitrary number of arguments and sums all the arguments. Check if all the list items are number types. If not do give a reasonable feedback.\n",
        "# Temperature in °C can be converted to °F using this formula: °F = (°C x 9/5) + 32. Write a function which converts °C to °F, convert_celsius_to-fahrenheit.\n",
        "# Write a function called check-season, it takes a month parameter and returns the season: Autumn, Winter, Spring or Summer.\n",
        "# Write a function called calculate_slope which return the slope of a linear equation\n",
        "# Quadratic equation is calculated as follows: ax² + bx + c = 0. Write a function which calculates solution set of a quadratic equation, solve_quadratic_eqn.\n",
        "# Declare a function named print_list. It takes a list as a parameter and it prints out each element of the list.\n",
        "# Declare a function named reverse_list. It takes an array as a parameter and it returns the reverse of the array (use loops).\n",
        "# Declare a function named capitalize_list_items. It takes a list as a parameter and it returns a capitalized list of items\n",
        "# Declare a function named sum_of_odds. It takes a number parameter and it adds all the odd numbers in that range.\n",
        "# Declare a function named sum_of_even. It takes a number parameter and it adds all the even numbers in that - range.\n",
        "\n",
        "\n"
      ],
      "metadata": {
        "id": "SfElc4_hq-z2"
      },
      "execution_count": 14,
      "outputs": []
    },
    {
      "cell_type": "code",
      "source": [
        "# Next batch of exercises :\n",
        "\n",
        "# Write a function called is_prime, which checks if a number is prime.\n",
        "# Write a functions which checks if all items are unique in the list.\n",
        "# Write a function which checks if all the items of the list are of the same data type.\n",
        "# Write a function which check if provided variable is a valid python variable\n",
        "# Go to the data folder and access the countries-data.py file.\n",
        "# Create a function called the most_spoken_languages in the world. It should return 10 or 20 most spoken languages in the world in descending order\n",
        "# Create a function called the most_populated_countries. It should return 10 or 20 most populated countries in descending order."
      ],
      "metadata": {
        "id": "k4rYOj3crS_8"
      },
      "execution_count": null,
      "outputs": []
    }
  ]
}