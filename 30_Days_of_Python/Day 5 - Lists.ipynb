{
 "cells": [
  {
   "cell_type": "markdown",
   "metadata": {},
   "source": [
    "# 30 Days of Python |  Day 5 : Lists\n",
    "\n",
    "Link : https://github.com/Asabeneh/30-Days-Of-Python/blob/master/05_Day_Lists/05_lists.md"
   ]
  },
  {
   "cell_type": "markdown",
   "metadata": {},
   "source": [
    "These are the 4 collection data types in Python\n",
    "\n",
    "List: is a collection which is ordered and changeable(modifiable). Allows duplicate members.\n",
    "\n",
    "Tuple: is a collection which is ordered and unchangeable or unmodifiable(immutable). Allows duplicate members.\n",
    "\n",
    "Set: is a collection which is unordered, un-indexed and unmodifiable, but we can add new items to the set. Duplicate members are not allowed.\n",
    "\n",
    "Dictionary: is a collection which is unordered, changeable(modifiable) and indexed. No duplicate members."
   ]
  },
  {
   "cell_type": "code",
   "execution_count": 2,
   "metadata": {},
   "outputs": [],
   "source": [
    "# Ways to create lists\n",
    "\n",
    "list1 = list()  # With in built function\n",
    "list2 = []  # With square brackets\n"
   ]
  },
  {
   "cell_type": "code",
   "execution_count": 3,
   "metadata": {},
   "outputs": [
    {
     "name": "stdout",
     "output_type": "stream",
     "text": [
      "Fruits : ['banana', 'orange', 'mango', 'lemon']\n",
      "# of fruits : 4\n"
     ]
    }
   ],
   "source": [
    "# List lengths\n",
    "\n",
    "fruits = ['banana', 'orange', 'mango', 'lemon']                     # list of fruits\n",
    "vegetables = ['Tomato', 'Potato', 'Cabbage','Onion', 'Carrot']      # list of vegetables\n",
    "animal_products = ['milk', 'meat', 'butter', 'yoghurt']             # list of animal products\n",
    "web_techs = ['HTML', 'CSS', 'JS', 'React','Redux', 'Node', 'MongDB'] # list of web technologies\n",
    "countries = ['Finland', 'Estonia', 'Denmark', 'Sweden', 'Norway']\n",
    "\n",
    "print('Fruits :', fruits)\n",
    "print('# of fruits :', len(fruits))"
   ]
  },
  {
   "cell_type": "code",
   "execution_count": 5,
   "metadata": {},
   "outputs": [
    {
     "name": "stdout",
     "output_type": "stream",
     "text": [
      "Dennis\n",
      "{'country': 'India', 'city': 'Bengaluru'}\n"
     ]
    }
   ],
   "source": [
    "# A list can have different data types within\n",
    "# The index for a list starts from 0\n",
    "\n",
    "\n",
    "list3 = ['Dennis', 41, True, {'country' : 'India', 'city' : 'Bengaluru'}]\n",
    "print(list3[0])  # Positive indexing\n",
    "print(list3[-1])  # Negative indexing"
   ]
  },
  {
   "cell_type": "code",
   "execution_count": 11,
   "metadata": {},
   "outputs": [
    {
     "data": {
      "text/plain": [
       "['HTML', 'JS', 'Redux', 'MongDB']"
      ]
     },
     "execution_count": 11,
     "metadata": {},
     "output_type": "execute_result"
    }
   ],
   "source": [
    "# List slicing - (default values for start = 0, end = len(list) - 1 (last item), step = 1)\n",
    "\n",
    "fruits[0:2]\n",
    "countries[2:]\n",
    "web_techs[:3]\n",
    "web_techs[::2]  #This 3rd argument was for taking steps of 2 in making the list"
   ]
  },
  {
   "cell_type": "code",
   "execution_count": 13,
   "metadata": {},
   "outputs": [
    {
     "name": "stdout",
     "output_type": "stream",
     "text": [
      "['guava', 'orange', 'mango', 'lemon']\n",
      "['guava', 'orange', 'mango', 'lemon']\n",
      "['guava', 'orange', 'mango', 'strawberry']\n"
     ]
    }
   ],
   "source": [
    "# List modification \n",
    "\n",
    "print(fruits)\n",
    "fruits[0] = 'guava'\n",
    "print(fruits)\n",
    "\n",
    "last_index = len(fruits) - 1\n",
    "fruits[last_index] = 'strawberry'\n",
    "print(fruits)"
   ]
  },
  {
   "cell_type": "code",
   "execution_count": 16,
   "metadata": {},
   "outputs": [
    {
     "name": "stdout",
     "output_type": "stream",
     "text": [
      "['guava', 'orange', 'mango', 'strawberry', 'kiwi', 'kiwi', 'kiwi']\n",
      "['guava', 'orange', 'mango', 'strawberry', 'kiwi', 'kiwi', 'kiwi', ('banana', 'sitaphal')]\n"
     ]
    }
   ],
   "source": [
    "# Append items to a list\n",
    "\n",
    "fruits.append('kiwi')\n",
    "print(fruits)\n",
    "fruits.append(('banana', 'sitaphal'))\n",
    "print(fruits)"
   ]
  },
  {
   "cell_type": "code",
   "execution_count": 18,
   "metadata": {},
   "outputs": [
    {
     "name": "stdout",
     "output_type": "stream",
     "text": [
      "['banana', 'orange', 'mango', 'guava', 'lemon']\n"
     ]
    }
   ],
   "source": [
    "# Insert items into the list\n",
    "\n",
    "fruits = ['banana', 'orange', 'mango', 'lemon']\n",
    "fruits.insert(3,'guava')\n",
    "print(fruits)  # Inserted guava into the list at index = 3"
   ]
  },
  {
   "cell_type": "code",
   "execution_count": 19,
   "metadata": {},
   "outputs": [
    {
     "name": "stdout",
     "output_type": "stream",
     "text": [
      "['banana', 'orange', 'mango', 'lemon']\n"
     ]
    }
   ],
   "source": [
    "# Remove items from list\n",
    "\n",
    "fruits.remove('guava')\n",
    "print(fruits)"
   ]
  },
  {
   "cell_type": "code",
   "execution_count": 20,
   "metadata": {},
   "outputs": [
    {
     "name": "stdout",
     "output_type": "stream",
     "text": [
      "['banana', 'mango']\n"
     ]
    }
   ],
   "source": [
    "# pop () : Remove items at the specified index\n",
    "\n",
    "fruits.pop(1) # Removes the item at index = 1\n",
    "fruits.pop()  # Removes the last item in the list\n",
    "\n",
    "print(fruits)"
   ]
  },
  {
   "cell_type": "code",
   "execution_count": 23,
   "metadata": {},
   "outputs": [
    {
     "name": "stdout",
     "output_type": "stream",
     "text": [
      "['orange', 'mango', 'lime']\n"
     ]
    },
    {
     "ename": "NameError",
     "evalue": "name 'fruits' is not defined",
     "output_type": "error",
     "traceback": [
      "\u001b[1;31m---------------------------------------------------------------------------\u001b[0m",
      "\u001b[1;31mNameError\u001b[0m                                 Traceback (most recent call last)",
      "Cell \u001b[1;32mIn[23], line 11\u001b[0m\n\u001b[0;32m      9\u001b[0m     \u001b[38;5;66;03m# We can also delete the full list\u001b[39;00m\n\u001b[0;32m     10\u001b[0m \u001b[38;5;28;01mdel\u001b[39;00m fruits\n\u001b[1;32m---> 11\u001b[0m \u001b[38;5;28mprint\u001b[39m (\u001b[43mfruits\u001b[49m)\n",
      "\u001b[1;31mNameError\u001b[0m: name 'fruits' is not defined"
     ]
    }
   ],
   "source": [
    "# Remove list items using del()\n",
    "\n",
    "fruits = ['banana', 'orange', 'mango', 'lemon', 'kiwi', 'lime']\n",
    "del fruits[0]  #Removes the item at index 0\n",
    "del fruits[2:4] #Removes the items between indices 2-4, not including 4\n",
    "\n",
    "print(fruits)\n",
    "\n",
    "    # We can also delete the full list with del\n",
    "del fruits\n",
    "print (fruits)\n"
   ]
  },
  {
   "cell_type": "code",
   "execution_count": 24,
   "metadata": {},
   "outputs": [
    {
     "name": "stdout",
     "output_type": "stream",
     "text": [
      "[]\n"
     ]
    }
   ],
   "source": [
    "# Clear() : Clears the list, without deleting it\n",
    "\n",
    "fruits = ['banana', 'orange', 'mango', 'lemon']\n",
    "fruits.clear()\n",
    "\n",
    "print(fruits)"
   ]
  },
  {
   "cell_type": "code",
   "execution_count": 27,
   "metadata": {},
   "outputs": [
    {
     "name": "stdout",
     "output_type": "stream",
     "text": [
      "['banana', 'orange', 'mango', 'lemon']\n"
     ]
    }
   ],
   "source": [
    "# Copy() = Copies the list by reassigning it to a new variable\n",
    "\n",
    "fruits = ['banana', 'orange', 'mango', 'lemon']\n",
    "fruits_copy = fruits.copy()\n",
    "print(fruits_copy)"
   ]
  },
  {
   "cell_type": "code",
   "execution_count": 29,
   "metadata": {},
   "outputs": [
    {
     "name": "stdout",
     "output_type": "stream",
     "text": [
      "['apple', 'banana', 'carrot']\n",
      "None\n"
     ]
    }
   ],
   "source": [
    "# Concatenate lists :\n",
    "\n",
    "fruits = ['apple', 'banana']\n",
    "veggies = ['carrot']\n",
    "\n",
    "    # Method 1 : With the + operand\n",
    "abc_detox = fruits + veggies\n",
    "print(abc_detox)\n",
    "\n",
    "\n",
    "    # Method 2 : With the extend() function\n",
    "abc_2 = fruits.extend(veggies)\n",
    "print(abc_2)"
   ]
  },
  {
   "cell_type": "code",
   "execution_count": 30,
   "metadata": {},
   "outputs": [
    {
     "name": "stdout",
     "output_type": "stream",
     "text": [
      "3\n"
     ]
    }
   ],
   "source": [
    "# Counting itens in the list with count()\n",
    "\n",
    "ages = [22, 19, 24, 25, 26, 24, 25, 24]\n",
    "print(ages.count(24))"
   ]
  },
  {
   "cell_type": "code",
   "execution_count": 31,
   "metadata": {},
   "outputs": [
    {
     "name": "stdout",
     "output_type": "stream",
     "text": [
      "2\n"
     ]
    }
   ],
   "source": [
    "# Find an item in the list with index()\n",
    "print(ages.index(24))  # Returns the first index "
   ]
  },
  {
   "cell_type": "code",
   "execution_count": 34,
   "metadata": {},
   "outputs": [
    {
     "name": "stdout",
     "output_type": "stream",
     "text": [
      "['carrot', 'banana', 'apple']\n"
     ]
    }
   ],
   "source": [
    "# Reverse the list with reverse()\n",
    "\n",
    "fruits.reverse()\n",
    "print(fruits)"
   ]
  },
  {
   "cell_type": "code",
   "execution_count": 39,
   "metadata": {},
   "outputs": [
    {
     "name": "stdout",
     "output_type": "stream",
     "text": [
      "[19, 22, 24, 24, 24, 25, 25, 26]\n",
      "[26, 25, 25, 24, 24, 24, 22, 19]\n",
      "['apple', 'banana', 'carrot']\n",
      "['carrot', 'banana', 'apple']\n"
     ]
    }
   ],
   "source": [
    "# Sort the list with sort()\n",
    "\n",
    "ages.sort()\n",
    "print(ages)                  #Sorts the list in ascending order\n",
    "ages.sort(reverse = True)    #Sorts the list in descending order\n",
    "print(ages)\n",
    "\n",
    "print(sorted(fruits))       # Sorts the list without modifying the original\n",
    "print(sorted(fruits, reverse = True))"
   ]
  },
  {
   "cell_type": "code",
   "execution_count": 40,
   "metadata": {},
   "outputs": [],
   "source": [
    "# Exercises to come back to : \n",
    "\n",
    "# Declare an empty list\n",
    "\n",
    "# Declare a list with more than 5 items\n",
    "\n",
    "# Find the length of your list\n",
    "\n",
    "# Get the first item, the middle item and the last item of the list\n",
    "\n",
    "# Declare a list called mixed_data_types, put your(name, age, height, marital status, address)\n",
    "\n",
    "# Declare a list variable named it_companies and assign initial values Facebook, Google, Microsoft, Apple, IBM, Oracle and Amazon.\n",
    "\n",
    "# Print the list using print()\n",
    "\n",
    "# Print the number of companies in the list\n",
    "\n",
    "# Print the first, middle and last company\n",
    "\n",
    "# Print the list after modifying one of the companies\n",
    "\n",
    "# Add an IT company to it_companies\n",
    "\n",
    "# Insert an IT company in the middle of the companies list\n",
    "\n",
    "# Change one of the it_companies names to uppercase (IBM excluded!)\n",
    "\n",
    "# Join the it_companies with a string '#;  '\n",
    "\n",
    "# Check if a certain company exists in the it_companies list.\n",
    "\n",
    "# Sort the list using sort() method\n",
    "\n",
    "# Reverse the list in descending order using reverse() method\n",
    "\n",
    "# Slice out the first 3 companies from the list\n",
    "\n",
    "# Slice out the last 3 companies from the list\n",
    "\n",
    "# Slice out the middle IT company or companies from the list\n",
    "\n",
    "# Remove the first IT company from the list\n",
    "\n",
    "# Remove the middle IT company or companies from the list\n",
    "\n",
    "# Remove the last IT company from the list\n",
    "\n",
    "# Remove all IT companies from the list\n",
    "\n",
    "# Destroy the IT companies list"
   ]
  },
  {
   "cell_type": "code",
   "execution_count": null,
   "metadata": {},
   "outputs": [],
   "source": [
    "# Next level exercises\n",
    "\n",
    "# The following is a list of 10 students ages:\n",
    "# ages = [19, 22, 19, 24, 20, 25, 26, 24, 25, 24]\n",
    "\n",
    "# Sort the list and find the min and max age\n",
    "# Add the min age and the max age again to the list\n",
    "# Find the median age (one middle item or two middle items divided by two)\n",
    "# Find the average age (sum of all items divided by their number )\n",
    "# Find the range of the ages (max minus min)\n",
    "# Compare the value of (min - average) and (max - average), use abs() method\n",
    "# Find the middle country(ies) in the countries list\n",
    "# Divide the countries list into two equal lists if it is even if not one more country for the first half.\n",
    "# ['China', 'Russia', 'USA', 'Finland', 'Sweden', 'Norway', 'Denmark']. Unpack the first three countries and the rest as scandic countries."
   ]
  }
 ],
 "metadata": {
  "kernelspec": {
   "display_name": ".venv",
   "language": "python",
   "name": "python3"
  },
  "language_info": {
   "codemirror_mode": {
    "name": "ipython",
    "version": 3
   },
   "file_extension": ".py",
   "mimetype": "text/x-python",
   "name": "python",
   "nbconvert_exporter": "python",
   "pygments_lexer": "ipython3",
   "version": "3.10.9"
  }
 },
 "nbformat": 4,
 "nbformat_minor": 2
}
