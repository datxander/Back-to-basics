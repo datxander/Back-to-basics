{
  "nbformat": 4,
  "nbformat_minor": 0,
  "metadata": {
    "colab": {
      "provenance": [],
      "authorship_tag": "ABX9TyMgETa77tMT5bgbdGAGbMAI",
      "include_colab_link": true
    },
    "kernelspec": {
      "name": "python3",
      "display_name": "Python 3"
    },
    "language_info": {
      "name": "python"
    }
  },
  "cells": [
    {
      "cell_type": "markdown",
      "metadata": {
        "id": "view-in-github",
        "colab_type": "text"
      },
      "source": [
        "<a href=\"https://colab.research.google.com/github/datxander/Back-to-basics/blob/main/30_Days_of_Python/13_List_comprehension.ipynb\" target=\"_parent\"><img src=\"https://colab.research.google.com/assets/colab-badge.svg\" alt=\"Open In Colab\"/></a>"
      ]
    },
    {
      "cell_type": "code",
      "execution_count": 1,
      "metadata": {
        "colab": {
          "base_uri": "https://localhost:8080/"
        },
        "id": "kmepW_QJ1UT4",
        "outputId": "ab339e03-c998-44d1-ffe7-4a0f1ab5f3bb"
      },
      "outputs": [
        {
          "output_type": "stream",
          "name": "stdout",
          "text": [
            "['P', 'y', 't', 'h', 'o', 'n']\n",
            "<class 'list'>\n"
          ]
        }
      ],
      "source": [
        "language = 'Python'\n",
        "lst = list(language)\n",
        "print(lst)\n",
        "print(type(lst))\n",
        "\n"
      ]
    },
    {
      "cell_type": "code",
      "source": [
        "# List comprehension\n",
        "\n",
        "lst = [i for i in language]\n",
        "print(lst)\n",
        "print(type(lst))"
      ],
      "metadata": {
        "id": "NFdcw0R-bNoT",
        "colab": {
          "base_uri": "https://localhost:8080/"
        },
        "outputId": "1556e720-76f8-42bc-a8ce-36ccfac917da"
      },
      "execution_count": 2,
      "outputs": [
        {
          "output_type": "stream",
          "name": "stdout",
          "text": [
            "['P', 'y', 't', 'h', 'o', 'n']\n",
            "<class 'list'>\n"
          ]
        }
      ]
    },
    {
      "cell_type": "code",
      "source": [
        "# Number generator\n",
        "\n",
        "numbers = [i for i in range(10)]\n",
        "print(numbers)"
      ],
      "metadata": {
        "colab": {
          "base_uri": "https://localhost:8080/"
        },
        "id": "23LxxMVZCeUV",
        "outputId": "6333e02f-c970-4609-936e-43c4bf124bc4"
      },
      "execution_count": 4,
      "outputs": [
        {
          "output_type": "stream",
          "name": "stdout",
          "text": [
            "[0, 1, 2, 3, 4, 5, 6, 7, 8, 9]\n"
          ]
        }
      ]
    },
    {
      "cell_type": "code",
      "source": [
        "# Mathematical operations with LC\n",
        "squares = [i*i for i in range(10)]\n",
        "print(squares)"
      ],
      "metadata": {
        "colab": {
          "base_uri": "https://localhost:8080/"
        },
        "id": "V8gw5CjWC06g",
        "outputId": "25625b97-de98-4d5b-d3e8-5f919b73441b"
      },
      "execution_count": 5,
      "outputs": [
        {
          "output_type": "stream",
          "name": "stdout",
          "text": [
            "[0, 1, 4, 9, 16, 25, 36, 49, 64, 81]\n"
          ]
        }
      ]
    },
    {
      "cell_type": "code",
      "source": [
        "# We can also list tuples this way\n",
        "\n",
        "sequence = [(i, i*i) for i in range(10)]\n",
        "print(sequence)"
      ],
      "metadata": {
        "colab": {
          "base_uri": "https://localhost:8080/"
        },
        "id": "RrFcqEmLDG4Z",
        "outputId": "538897e0-7b16-4e1a-8ca1-e3511f59443d"
      },
      "execution_count": 6,
      "outputs": [
        {
          "output_type": "stream",
          "name": "stdout",
          "text": [
            "[(0, 0), (1, 1), (2, 4), (3, 9), (4, 16), (5, 25), (6, 36), (7, 49), (8, 64), (9, 81)]\n"
          ]
        }
      ]
    },
    {
      "cell_type": "code",
      "source": [
        "# Combining list comprehension with if expression\n",
        "\n",
        "# Generating even numbers\n",
        "\n",
        "evens = [i for i in range(21) if i % 2 == 0]\n",
        "print(evens)"
      ],
      "metadata": {
        "colab": {
          "base_uri": "https://localhost:8080/"
        },
        "id": "yNXY1KvoDXZ5",
        "outputId": "3d27bc91-2f2a-4718-fa6f-292eae247d91"
      },
      "execution_count": 7,
      "outputs": [
        {
          "output_type": "stream",
          "name": "stdout",
          "text": [
            "[0, 2, 4, 6, 8, 10, 12, 14, 16, 18, 20]\n"
          ]
        }
      ]
    },
    {
      "cell_type": "code",
      "source": [
        "# Generating multiples of 6\n",
        "\n",
        "sixes = [i for i in range(100) if i % 2 == 0 and i % 3 == 0]\n",
        "print(sixes)"
      ],
      "metadata": {
        "colab": {
          "base_uri": "https://localhost:8080/"
        },
        "id": "_xGcCn0iEgUY",
        "outputId": "d5b5bdb2-5930-4aae-b567-e67fda8dbabc"
      },
      "execution_count": 8,
      "outputs": [
        {
          "output_type": "stream",
          "name": "stdout",
          "text": [
            "[0, 6, 12, 18, 24, 30, 36, 42, 48, 54, 60, 66, 72, 78, 84, 90, 96]\n"
          ]
        }
      ]
    },
    {
      "cell_type": "code",
      "source": [],
      "metadata": {
        "id": "A8TLbQ7pEz_v"
      },
      "execution_count": null,
      "outputs": []
    }
  ]
}