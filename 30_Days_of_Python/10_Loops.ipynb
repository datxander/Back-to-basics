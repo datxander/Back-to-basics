{
  "nbformat": 4,
  "nbformat_minor": 0,
  "metadata": {
    "colab": {
      "provenance": [],
      "authorship_tag": "ABX9TyOmbbMmnsZXDujKvQBWi4e7",
      "include_colab_link": true
    },
    "kernelspec": {
      "name": "python3",
      "display_name": "Python 3"
    },
    "language_info": {
      "name": "python"
    }
  },
  "cells": [
    {
      "cell_type": "markdown",
      "metadata": {
        "id": "view-in-github",
        "colab_type": "text"
      },
      "source": [
        "<a href=\"https://colab.research.google.com/github/datxander/Back-to-basics/blob/main/30_Days_of_Python/10_Loops.ipynb\" target=\"_parent\"><img src=\"https://colab.research.google.com/assets/colab-badge.svg\" alt=\"Open In Colab\"/></a>"
      ]
    },
    {
      "cell_type": "markdown",
      "source": [
        "Loops are brought in to handle repetitive tasks in programming. There are 2 types of loops : While loops & for loops\n",
        "\n"
      ],
      "metadata": {
        "id": "ZbvCkhQoFxCP"
      }
    },
    {
      "cell_type": "code",
      "source": [
        "# While loop syntax:\n",
        "\n",
        "# while condition:\n",
        "  # code goes here"
      ],
      "metadata": {
        "id": "-cqE6HpdGE_m"
      },
      "execution_count": 1,
      "outputs": []
    },
    {
      "cell_type": "code",
      "source": [
        "count = 0\n",
        "while count < 10:\n",
        "  print(count)\n",
        "  count += 1"
      ],
      "metadata": {
        "colab": {
          "base_uri": "https://localhost:8080/"
        },
        "id": "arY_A9tlGOiX",
        "outputId": "36e45c43-bd17-4484-dc8c-0b18978e9e93"
      },
      "execution_count": 2,
      "outputs": [
        {
          "output_type": "stream",
          "name": "stdout",
          "text": [
            "0\n",
            "1\n",
            "2\n",
            "3\n",
            "4\n",
            "5\n",
            "6\n",
            "7\n",
            "8\n",
            "9\n"
          ]
        }
      ]
    },
    {
      "cell_type": "code",
      "source": [
        "# That code ran till the while statement was no longer true, then stopped. We can combine this with an else condition to run a different block of code\n",
        "\n",
        "count = 0\n",
        "while count < 10:\n",
        "  print(count)\n",
        "  count += 1\n",
        "else:\n",
        "  print(\"Count is no longer less than 10\")"
      ],
      "metadata": {
        "colab": {
          "base_uri": "https://localhost:8080/"
        },
        "id": "zzlTIA6vGWi2",
        "outputId": "b1beecdb-8970-4048-da42-d4b1d85a5250"
      },
      "execution_count": 3,
      "outputs": [
        {
          "output_type": "stream",
          "name": "stdout",
          "text": [
            "0\n",
            "1\n",
            "2\n",
            "3\n",
            "4\n",
            "5\n",
            "6\n",
            "7\n",
            "8\n",
            "9\n",
            "Count is no longer less than 10\n"
          ]
        }
      ]
    },
    {
      "cell_type": "code",
      "source": [
        "# Break & Continue\n",
        "\n",
        "# Break is used to break the loop\n",
        "\n",
        "# Syntax :\n",
        "\n",
        "# while condition:\n",
        "#   code goes here\n",
        "#   if another_condition:\n",
        "#     break\n"
      ],
      "metadata": {
        "id": "aJ58DABoGsXN"
      },
      "execution_count": 4,
      "outputs": []
    },
    {
      "cell_type": "code",
      "source": [
        "# Example\n",
        "\n",
        "count = 0\n",
        "while count < 10:\n",
        "  print(count)\n",
        "  count += 1\n",
        "  if count % 5 == 0:\n",
        "    break\n"
      ],
      "metadata": {
        "colab": {
          "base_uri": "https://localhost:8080/"
        },
        "id": "i6l2lST7HHe1",
        "outputId": "4be5c2be-88a8-4ac6-fc7a-7bf20b1695fa"
      },
      "execution_count": 5,
      "outputs": [
        {
          "output_type": "stream",
          "name": "stdout",
          "text": [
            "0\n",
            "1\n",
            "2\n",
            "3\n",
            "4\n"
          ]
        }
      ]
    },
    {
      "cell_type": "code",
      "source": [
        "# Example of \"continue\" statement\n",
        "\n",
        "count = 0\n",
        "while count < 20:\n",
        "  if count % 4 == 0:\n",
        "    count = count + 1\n",
        "    continue\n",
        "  print (count)\n",
        "  count = count + 1"
      ],
      "metadata": {
        "colab": {
          "base_uri": "https://localhost:8080/"
        },
        "id": "u4c5eHBBH1ke",
        "outputId": "8f619b2d-f0c7-4d81-fdf2-c300f88344e8"
      },
      "execution_count": 6,
      "outputs": [
        {
          "output_type": "stream",
          "name": "stdout",
          "text": [
            "1\n",
            "2\n",
            "3\n",
            "5\n",
            "6\n",
            "7\n",
            "9\n",
            "10\n",
            "11\n",
            "13\n",
            "14\n",
            "15\n",
            "17\n",
            "18\n",
            "19\n"
          ]
        }
      ]
    },
    {
      "cell_type": "code",
      "source": [
        "# Loops are used for iterating over a sequence such as a list, tuple, dictionary, set or string\n",
        "\n",
        "# Syntax :\n",
        "\n",
        "# for iterator in list:\n",
        "#   code goes here"
      ],
      "metadata": {
        "id": "9KBRMLXLIdme"
      },
      "execution_count": 7,
      "outputs": []
    },
    {
      "cell_type": "code",
      "source": [
        "# Example\n",
        "\n",
        "number = [2,4,6,8,10]\n",
        "for digit in number:\n",
        "  print(digit)"
      ],
      "metadata": {
        "colab": {
          "base_uri": "https://localhost:8080/"
        },
        "id": "HKPN_nyiJW01",
        "outputId": "8312705c-4bc6-4daf-bc56-e8da7719a95f"
      },
      "execution_count": 9,
      "outputs": [
        {
          "output_type": "stream",
          "name": "stdout",
          "text": [
            "2\n",
            "4\n",
            "6\n",
            "8\n",
            "10\n"
          ]
        }
      ]
    },
    {
      "cell_type": "code",
      "source": [
        "# Loops in strings\n",
        "\n",
        "sentence = \"Random sentence goes here\"\n",
        "\n",
        "for letter in sentence:\n",
        "  print(letter)\n",
        "\n",
        "for i in range(len(sentence)):\n",
        "  print(sentence[i])"
      ],
      "metadata": {
        "colab": {
          "base_uri": "https://localhost:8080/"
        },
        "id": "jYJ45BUiJkm9",
        "outputId": "5f633929-6e0a-4cab-b3b3-66525e1e613e"
      },
      "execution_count": 10,
      "outputs": [
        {
          "output_type": "stream",
          "name": "stdout",
          "text": [
            "R\n",
            "a\n",
            "n\n",
            "d\n",
            "o\n",
            "m\n",
            " \n",
            "s\n",
            "e\n",
            "n\n",
            "t\n",
            "e\n",
            "n\n",
            "c\n",
            "e\n",
            " \n",
            "g\n",
            "o\n",
            "e\n",
            "s\n",
            " \n",
            "h\n",
            "e\n",
            "r\n",
            "e\n",
            "R\n",
            "a\n",
            "n\n",
            "d\n",
            "o\n",
            "m\n",
            " \n",
            "s\n",
            "e\n",
            "n\n",
            "t\n",
            "e\n",
            "n\n",
            "c\n",
            "e\n",
            " \n",
            "g\n",
            "o\n",
            "e\n",
            "s\n",
            " \n",
            "h\n",
            "e\n",
            "r\n",
            "e\n"
          ]
        }
      ]
    },
    {
      "cell_type": "code",
      "source": [
        "# Loops in tuples :\n",
        "\n",
        "seq = (1,2,3,4,5)\n",
        "\n",
        "for i in seq:\n",
        "  print(i)"
      ],
      "metadata": {
        "colab": {
          "base_uri": "https://localhost:8080/"
        },
        "id": "qHKEjKzBTWik",
        "outputId": "0b656656-52ca-45b2-acd2-2d390cf7bf1c"
      },
      "execution_count": 11,
      "outputs": [
        {
          "output_type": "stream",
          "name": "stdout",
          "text": [
            "1\n",
            "2\n",
            "3\n",
            "4\n",
            "5\n"
          ]
        }
      ]
    },
    {
      "cell_type": "code",
      "source": [
        "# Loops in dictonaries:\n",
        "\n",
        "person = {\n",
        "    'first_name':'Asabeneh',\n",
        "    'last_name':'Yetayeh',\n",
        "    'age':250,\n",
        "    'country':'Finland',\n",
        "    'is_marred':True,\n",
        "    'skills':['JavaScript', 'React', 'Node', 'MongoDB', 'Python'],\n",
        "    'address':{\n",
        "        'street':'Space street',\n",
        "        'zipcode':'02210'\n",
        "    }\n",
        "}\n",
        "for key in person:\n",
        "    print(key)\n",
        "\n",
        "for key, value in person.items():\n",
        "    print(key, value) # this way we get both keys and values printed out"
      ],
      "metadata": {
        "colab": {
          "base_uri": "https://localhost:8080/"
        },
        "id": "rm0z7S3UTyUs",
        "outputId": "0f9e8ea5-ebbc-4808-af5f-560df5398c7e"
      },
      "execution_count": 15,
      "outputs": [
        {
          "output_type": "stream",
          "name": "stdout",
          "text": [
            "first_name\n",
            "last_name\n",
            "age\n",
            "country\n",
            "is_marred\n",
            "skills\n",
            "address\n",
            "first_name Asabeneh\n",
            "last_name Yetayeh\n",
            "age 250\n",
            "country Finland\n",
            "is_marred True\n",
            "skills ['JavaScript', 'React', 'Node', 'MongoDB', 'Python']\n",
            "address {'street': 'Space street', 'zipcode': '02210'}\n"
          ]
        }
      ]
    },
    {
      "cell_type": "code",
      "source": [
        "#  Same syntax for looping in a set\n",
        "\n",
        "numbers = {0,1,2,3,4,5,6}\n",
        "\n",
        "for number in numbers:\n",
        "  print(number)"
      ],
      "metadata": {
        "colab": {
          "base_uri": "https://localhost:8080/"
        },
        "id": "krIaTwL8URkr",
        "outputId": "67dad6bc-44e1-4d80-eff1-08b50378176b"
      },
      "execution_count": 16,
      "outputs": [
        {
          "output_type": "stream",
          "name": "stdout",
          "text": [
            "0\n",
            "1\n",
            "2\n",
            "3\n",
            "4\n",
            "5\n",
            "6\n"
          ]
        }
      ]
    },
    {
      "cell_type": "code",
      "source": [
        "# For Else loop:\n",
        "\n",
        "for number in range(10):\n",
        "  print(number)\n",
        "else:\n",
        "  print('The sequence ends at', number)"
      ],
      "metadata": {
        "colab": {
          "base_uri": "https://localhost:8080/"
        },
        "id": "59sw2ffNUyab",
        "outputId": "ba645615-a1ad-48f7-d84f-c0608f3dbbb1"
      },
      "execution_count": 17,
      "outputs": [
        {
          "output_type": "stream",
          "name": "stdout",
          "text": [
            "0\n",
            "1\n",
            "2\n",
            "3\n",
            "4\n",
            "5\n",
            "6\n",
            "7\n",
            "8\n",
            "9\n",
            "The sequence ends at 9\n"
          ]
        }
      ]
    },
    {
      "cell_type": "code",
      "source": [
        "# Pass - This is used as a placeholder for future code, so that the execution does not give an error\n",
        "\n",
        "for number in range(10):\n",
        "  pass"
      ],
      "metadata": {
        "id": "Ong5mUUdhGRR"
      },
      "execution_count": 18,
      "outputs": []
    },
    {
      "cell_type": "code",
      "source": [
        "# Exercises : See link https://github.com/Asabeneh/30-Days-Of-Python/blob/master/10_Day_Loops/10_loops.md for the exercises"
      ],
      "metadata": {
        "id": "8mL9wKD5hetg"
      },
      "execution_count": null,
      "outputs": []
    }
  ]
}