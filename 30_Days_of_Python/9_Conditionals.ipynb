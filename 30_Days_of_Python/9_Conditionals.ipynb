{
  "nbformat": 4,
  "nbformat_minor": 0,
  "metadata": {
    "colab": {
      "provenance": [],
      "authorship_tag": "ABX9TyOpbRc9RV17aLy0hdPybp/I",
      "include_colab_link": true
    },
    "kernelspec": {
      "name": "python3",
      "display_name": "Python 3"
    },
    "language_info": {
      "name": "python"
    }
  },
  "cells": [
    {
      "cell_type": "markdown",
      "metadata": {
        "id": "view-in-github",
        "colab_type": "text"
      },
      "source": [
        "<a href=\"https://colab.research.google.com/github/datxander/Back-to-basics/blob/main/30_Days_of_Python/9_Conditionals.ipynb\" target=\"_parent\"><img src=\"https://colab.research.google.com/assets/colab-badge.svg\" alt=\"Open In Colab\"/></a>"
      ]
    },
    {
      "cell_type": "markdown",
      "source": [
        "**If / Else / Elif**\n",
        "\n",
        "\n",
        "\n",
        "Statements in Python script are executed sequentially from top to bottom. If the processing logic require so, the sequential flow of execution can be altered in two ways :\n",
        "\n",
        "\n",
        "\n",
        "1.   Conditional execution: A block of one or more statements will be executed if a certain expression is true\n",
        "\n",
        "2.   Repetitive execution: A block of one or more statements will be repetitively executed as long as a certain expression is true.\n",
        "\n"
      ],
      "metadata": {
        "id": "jowAqsMTyWGQ"
      }
    },
    {
      "cell_type": "code",
      "source": [
        "# Basic syntax for if conditions\n",
        "\n",
        "a = 5\n",
        "if a > 0:\n",
        "  print(\"a is a positive number\")"
      ],
      "metadata": {
        "colab": {
          "base_uri": "https://localhost:8080/"
        },
        "id": "5jPGeJqYyjSP",
        "outputId": "b00dc72b-d8e6-4664-87c2-094cf17bed32"
      },
      "execution_count": 1,
      "outputs": [
        {
          "output_type": "stream",
          "name": "stdout",
          "text": [
            "a is a positive number\n"
          ]
        }
      ]
    },
    {
      "cell_type": "code",
      "source": [
        "# Syntax for if else conditions\n",
        "\n",
        "\n",
        "a = 5\n",
        "if a < 0:\n",
        "  print(\"a is a negative number\")\n",
        "else:\n",
        "  print(\"a is a positive number\")\n",
        "\n"
      ],
      "metadata": {
        "colab": {
          "base_uri": "https://localhost:8080/"
        },
        "id": "HIz18YYbzkTA",
        "outputId": "b944c890-4692-4033-9de2-6760e175f278"
      },
      "execution_count": 2,
      "outputs": [
        {
          "output_type": "stream",
          "name": "stdout",
          "text": [
            "a is a positive number\n"
          ]
        }
      ]
    },
    {
      "cell_type": "code",
      "source": [
        "# Syntax for elif conditions\n",
        "\n",
        "color = 'blue'\n",
        "if color == 'red':\n",
        "  print('The color is red')\n",
        "elif color == 'blue':\n",
        "  print('The color is blue')\n",
        "else:\n",
        "  print(' The color is not red or blue')"
      ],
      "metadata": {
        "colab": {
          "base_uri": "https://localhost:8080/"
        },
        "id": "S5SFN66Jz4bg",
        "outputId": "6b0b9ce1-9a9d-4f37-8b6f-769b979c84f3"
      },
      "execution_count": 3,
      "outputs": [
        {
          "output_type": "stream",
          "name": "stdout",
          "text": [
            "The color is blue\n"
          ]
        }
      ]
    },
    {
      "cell_type": "code",
      "source": [
        "# Short hand if conditions\n",
        "\n",
        "a = -1\n",
        "print('a is positive') if a > 0 else print('a is negative')\n",
        "\n",
        "#code if condition else code"
      ],
      "metadata": {
        "colab": {
          "base_uri": "https://localhost:8080/"
        },
        "id": "E_7XVnyS0-Iu",
        "outputId": "bda0598e-5723-46c6-99ed-f4aba36d37d6"
      },
      "execution_count": 4,
      "outputs": [
        {
          "output_type": "stream",
          "name": "stdout",
          "text": [
            "a is negative\n"
          ]
        }
      ]
    },
    {
      "cell_type": "code",
      "source": [
        "# Nested if conditions\n",
        "\n",
        "a = 5\n",
        "if a > 0:\n",
        "  if a % 2 == 0:\n",
        "    print('a is a positive even number')\n",
        "  else:\n",
        "    print('a is a positive odd number')\n",
        "elif a == 0:\n",
        "  print('a is zero')\n",
        "else:\n",
        "  print('a is a negative number')"
      ],
      "metadata": {
        "colab": {
          "base_uri": "https://localhost:8080/"
        },
        "id": "Q3yu4ilJ1was",
        "outputId": "dbb0cf2b-96de-4116-a966-b9882455da05"
      },
      "execution_count": 5,
      "outputs": [
        {
          "output_type": "stream",
          "name": "stdout",
          "text": [
            "a is a positive odd number\n"
          ]
        }
      ]
    },
    {
      "cell_type": "code",
      "source": [
        "# We can (& should) avoid nested conditions by using the AND operator here\n",
        "\n",
        "# Syntax :\n",
        "  # if condition and condition:\n",
        "    # code\n",
        "\n",
        "a = 9\n",
        "if a > 0 and a % 2 == 0:\n",
        "  print('a is a positive even number')\n",
        "elif a > 0 and a % 2 != 0:\n",
        "  print('a is a positive odd number')\n",
        "elif a == 0:\n",
        "  print('a is zero')\n",
        "else:\n",
        "  print('a is a negative number')"
      ],
      "metadata": {
        "colab": {
          "base_uri": "https://localhost:8080/"
        },
        "id": "a1yqlR9a2zcV",
        "outputId": "2d714f18-a36a-47c2-e667-e54a2753b06a"
      },
      "execution_count": 7,
      "outputs": [
        {
          "output_type": "stream",
          "name": "stdout",
          "text": [
            "a is a positive odd number\n"
          ]
        }
      ]
    },
    {
      "cell_type": "code",
      "source": [
        "# Conditionals with OR operator\n",
        "\n",
        "a = 10\n",
        "\n",
        "if a % 5 == 0 or a % 7 == 0:\n",
        "  print('The number is divisible by 5 or 7')\n",
        "else:\n",
        "  print('The number is not divisible by 5 or 7')"
      ],
      "metadata": {
        "colab": {
          "base_uri": "https://localhost:8080/"
        },
        "id": "OZTbZ5J93LJF",
        "outputId": "67b46a52-8498-4434-88db-18827f8660e3"
      },
      "execution_count": 8,
      "outputs": [
        {
          "output_type": "stream",
          "name": "stdout",
          "text": [
            "The number is divisible by 5 or 7\n"
          ]
        }
      ]
    },
    {
      "cell_type": "code",
      "source": [],
      "metadata": {
        "id": "R2XNHQV44hmM"
      },
      "execution_count": null,
      "outputs": []
    }
  ]
}