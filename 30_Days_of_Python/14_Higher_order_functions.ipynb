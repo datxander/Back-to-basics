{
  "nbformat": 4,
  "nbformat_minor": 0,
  "metadata": {
    "colab": {
      "provenance": [],
      "authorship_tag": "ABX9TyP39VBVmfB/XcbDGrXexRXL",
      "include_colab_link": true
    },
    "kernelspec": {
      "name": "python3",
      "display_name": "Python 3"
    },
    "language_info": {
      "name": "python"
    }
  },
  "cells": [
    {
      "cell_type": "markdown",
      "metadata": {
        "id": "view-in-github",
        "colab_type": "text"
      },
      "source": [
        "<a href=\"https://colab.research.google.com/github/datxander/Back-to-basics/blob/main/30_Days_of_Python/14_Higher_order_functions.ipynb\" target=\"_parent\"><img src=\"https://colab.research.google.com/assets/colab-badge.svg\" alt=\"Open In Colab\"/></a>"
      ]
    },
    {
      "cell_type": "code",
      "execution_count": null,
      "metadata": {
        "id": "_2eD4Cm36QwE"
      },
      "outputs": [],
      "source": [
        "# Link : https://github.com/Asabeneh/30-Days-Of-Python/blob/master/14_Day_Higher_order_functions/14_higher_order_functions.md"
      ]
    },
    {
      "cell_type": "markdown",
      "source": [
        "A function can take one or more functions as parameters\n",
        "\n",
        "A function can be returned as a result of another function\n",
        "\n",
        "A function can be modified\n",
        "\n",
        "A function can be assigned to a variable"
      ],
      "metadata": {
        "id": "ntLOVKiu9sJf"
      }
    },
    {
      "cell_type": "code",
      "source": [
        "# Functions as parameters\n",
        "\n",
        "# This would be the primitive way of specifying this function\n",
        "def sum_numbers(nums):\n",
        "  return sum(nums)\n",
        "\n",
        "# This is how I can specify the sum() function as a parameter\n",
        "\n",
        "def hof(f,lst):\n",
        "  summation = f(lst)\n",
        "  return summation\n",
        "\n",
        "result = hof(sum_numbers,[1,2,3,4,5])\n",
        "print(result)\n",
        "\n"
      ],
      "metadata": {
        "colab": {
          "base_uri": "https://localhost:8080/"
        },
        "id": "IjTQiyaY98dF",
        "outputId": "acdbd813-c599-43c5-a82c-0b7964ff99d6"
      },
      "execution_count": 1,
      "outputs": [
        {
          "output_type": "stream",
          "name": "stdout",
          "text": [
            "15\n"
          ]
        }
      ]
    },
    {
      "cell_type": "code",
      "source": [
        "# Function as a return value\n",
        "\n",
        "def square(x):\n",
        "  return x ** 2\n",
        "\n",
        "def cube(x):\n",
        "  return x ** 3\n",
        "\n",
        "def absolute(x):\n",
        "  if x >= 0:\n",
        "    return x\n",
        "  else:\n",
        "    return -(x)\n",
        "\n",
        "# The higher order function returning a function:\n",
        "\n",
        "def hof2(type):\n",
        "    if type == 'square':\n",
        "      return square\n",
        "    elif type == 'cube':\n",
        "      return cube\n",
        "    elif type == 'absolute':\n",
        "      return absolute\n",
        "\n",
        "result = hof2('cube')(2)\n",
        "print(result)\n"
      ],
      "metadata": {
        "colab": {
          "base_uri": "https://localhost:8080/"
        },
        "id": "YpengHqoPDvk",
        "outputId": "d415c1a0-7a4a-4201-d2e2-4d8a8729eafa"
      },
      "execution_count": 4,
      "outputs": [
        {
          "output_type": "stream",
          "name": "stdout",
          "text": [
            "8\n"
          ]
        }
      ]
    },
    {
      "cell_type": "markdown",
      "source": [
        "**Closure**\n",
        "\n",
        "Python allows a nested function to access the outer scope of the enclosing function. This is is known as a Closure. The closure is created by nesting a function inside another encapsulating function and then returning the inner function."
      ],
      "metadata": {
        "id": "DVIdY1FLRjxY"
      }
    },
    {
      "cell_type": "code",
      "source": [
        "def decimator():\n",
        "  ten = 10\n",
        "  def div(num):\n",
        "    return num / 10\n",
        "  return div\n",
        "\n",
        "dec = decimator()\n",
        "print(dec(20))\n"
      ],
      "metadata": {
        "colab": {
          "base_uri": "https://localhost:8080/"
        },
        "id": "8HJJineURBLr",
        "outputId": "1e6fcd01-19e4-46ff-c68c-a620b39ce2fc"
      },
      "execution_count": 6,
      "outputs": [
        {
          "output_type": "stream",
          "name": "stdout",
          "text": [
            "2.0\n"
          ]
        }
      ]
    },
    {
      "cell_type": "markdown",
      "source": [
        "**Decorators**\n",
        "\n",
        "A decorator is a design pattern in Python that allows a user to add new functionality to an existing object without modifying its structure. Decorators are usually called before the definition of a function you want to decorate."
      ],
      "metadata": {
        "id": "l2AW2JCYUUCO"
      }
    },
    {
      "cell_type": "code",
      "source": [
        "# Creating decorators\n",
        "\n",
        "#Normal function:\n",
        "def greeting():\n",
        "  return \"Welcome to perpetual learning!\"\n",
        "def yeller(function):\n",
        "  def wrapper():\n",
        "    func = function()\n",
        "    make_uppercase = func.upper()\n",
        "    return make_uppercase\n",
        "  return wrapper\n",
        "\n",
        "g = yeller(greeting)\n",
        "print(g())\n"
      ],
      "metadata": {
        "colab": {
          "base_uri": "https://localhost:8080/"
        },
        "id": "T23NPlseSiZ0",
        "outputId": "e2fc4894-5289-4bf3-a8a9-72a4531c766f"
      },
      "execution_count": 7,
      "outputs": [
        {
          "output_type": "stream",
          "name": "stdout",
          "text": [
            "WELCOME TO PERPETUAL LEARNING!\n"
          ]
        }
      ]
    },
    {
      "cell_type": "code",
      "source": [
        "# Let's add multiple decorators to a function\n",
        "\n",
        "#New decorator\n",
        "def split_string_decorator(function):\n",
        "  def wrapper():\n",
        "    func = function()\n",
        "    splitted_string = func.split()\n",
        "    return splitted_string\n",
        "  return wrapper\n",
        "\n",
        "@split_string_decorator\n",
        "@yeller # order with decorators is important in this case - .upper() function does not work with lists\n",
        "def greeting():\n",
        "  return \"Welcome to perpetual Learning\"\n",
        "\n",
        "print(greeting())"
      ],
      "metadata": {
        "colab": {
          "base_uri": "https://localhost:8080/"
        },
        "id": "zd3-oIPlVdND",
        "outputId": "b76daccc-7d12-4947-84c1-7a3cf5a56400"
      },
      "execution_count": 9,
      "outputs": [
        {
          "output_type": "stream",
          "name": "stdout",
          "text": [
            "['WELCOME', 'TO', 'PERPETUAL', 'LEARNING']\n"
          ]
        }
      ]
    },
    {
      "cell_type": "markdown",
      "source": [
        "**Accepting Parameters in Decorator Functions**\n",
        "\n",
        "Most of the time we need our functions to take parameters, so we might need to define a decorator that accepts parameters."
      ],
      "metadata": {
        "id": "GErFNUpea56_"
      }
    },
    {
      "cell_type": "code",
      "source": [
        "def decorator_with_parameters(function):\n",
        "  def wrapper_accepting_parameters(para1,para2,para3):\n",
        "    function(para1,para2,para3)\n",
        "    print(\"I'm a citizen of {}\".format (para3))\n",
        "  return wrapper_accepting_parameters\n",
        "\n",
        "@decorator_with_parameters\n",
        "def print_full_name(first_name,last_name,country):\n",
        "  print(\"I'm {} {}. I'm trying to learn Python\".format(first_name,last_name,country))\n",
        "\n",
        "print_full_name(\"Roy\", \"Harding\", \"Estonia\")"
      ],
      "metadata": {
        "colab": {
          "base_uri": "https://localhost:8080/"
        },
        "id": "xWfyUTMIaaut",
        "outputId": "0dbc2ae4-67eb-4031-bc7c-18aca51db7e3"
      },
      "execution_count": 13,
      "outputs": [
        {
          "output_type": "stream",
          "name": "stdout",
          "text": [
            "I'm Roy Harding. I'm trying to learn Python\n",
            "I'm a citizen of Estonia\n"
          ]
        }
      ]
    },
    {
      "cell_type": "code",
      "source": [],
      "metadata": {
        "id": "d_oDrZbPcYDp"
      },
      "execution_count": null,
      "outputs": []
    },
    {
      "cell_type": "markdown",
      "source": [
        "**Built in higher order functions**\n",
        "\n",
        "Map Function\n",
        "\n",
        "The map() function is a built-in function that takes a function and iterable as parameters.\n",
        "\n",
        "Syntax : map(function, iterable)"
      ],
      "metadata": {
        "id": "MN77GcfddbE-"
      }
    },
    {
      "cell_type": "code",
      "source": [
        "numbers = [1,2,3,4,5,6,7] # Iterable\n",
        "\n",
        "def square(x): # Function\n",
        "  return x ** 2\n",
        "\n",
        "numbers_squared = map(square,numbers)\n",
        "print(list(numbers_squared))"
      ],
      "metadata": {
        "colab": {
          "base_uri": "https://localhost:8080/"
        },
        "id": "LUDo79AUdl-x",
        "outputId": "704ba102-c2f0-4675-82ce-46af46401219"
      },
      "execution_count": 17,
      "outputs": [
        {
          "output_type": "stream",
          "name": "stdout",
          "text": [
            "[1, 4, 9, 16, 25, 36, 49]\n"
          ]
        }
      ]
    },
    {
      "cell_type": "code",
      "source": [
        "# We could also have used a lambda function here\n",
        "\n",
        "numbers_squared = map(lambda x: x ** 2, numbers)\n",
        "print(list(numbers_squared))"
      ],
      "metadata": {
        "colab": {
          "base_uri": "https://localhost:8080/"
        },
        "id": "l2rTDkUAeHz6",
        "outputId": "ade37540-65b7-46b0-e645-9753993e0e9b"
      },
      "execution_count": 18,
      "outputs": [
        {
          "output_type": "stream",
          "name": "stdout",
          "text": [
            "[1, 4, 9, 16, 25, 36, 49]\n"
          ]
        }
      ]
    },
    {
      "cell_type": "code",
      "source": [
        "# Another example - this turns string values to integers\n",
        "\n",
        "numbers_str = ['1', '2', '3', '4', '5']  # iterable\n",
        "numbers_int = map(int, numbers_str)\n",
        "print(list(numbers_int))    # [1, 2, 3, 4, 5]"
      ],
      "metadata": {
        "colab": {
          "base_uri": "https://localhost:8080/"
        },
        "id": "CPYqAmJieYLp",
        "outputId": "b13f2329-4b3d-4862-cb65-aefbf2d04895"
      },
      "execution_count": 19,
      "outputs": [
        {
          "output_type": "stream",
          "name": "stdout",
          "text": [
            "[1, 2, 3, 4, 5]\n"
          ]
        }
      ]
    },
    {
      "cell_type": "code",
      "source": [
        "# Another example\n",
        "names = ['Aarav', 'Avyaan', 'Taran', 'Gauri']\n",
        "\n",
        "cap_names = map(lambda x : x.upper(), names)\n",
        "print(list(cap_names))"
      ],
      "metadata": {
        "colab": {
          "base_uri": "https://localhost:8080/"
        },
        "id": "Yo6aw8hheoHI",
        "outputId": "17f4a64d-fc32-47fb-ed09-efab3f10b780"
      },
      "execution_count": 20,
      "outputs": [
        {
          "output_type": "stream",
          "name": "stdout",
          "text": [
            "['AARAV', 'AVYAAN', 'TARAN', 'GAURI']\n"
          ]
        }
      ]
    },
    {
      "cell_type": "code",
      "source": [],
      "metadata": {
        "id": "hgBv8CbpfmSY"
      },
      "execution_count": null,
      "outputs": []
    },
    {
      "cell_type": "markdown",
      "source": [
        "**Python - Filter Function**\n",
        "\n",
        "The filter() function calls the specified function which returns boolean for each item of the specified iterable (list). It filters the items that satisfy the filtering criteria.\n",
        "\n",
        "Syntax : filter(function, iterable)"
      ],
      "metadata": {
        "id": "GacAI5yLgwbZ"
      }
    },
    {
      "cell_type": "code",
      "source": [
        "# Filtering for odd numbers\n",
        "\n",
        "numbers = list(range(20))\n",
        "\n",
        "def is_odd(num):\n",
        "  if num % 2 != 0:\n",
        "    return True\n",
        "  else:\n",
        "    return False\n",
        "\n",
        "odds = filter(is_odd,numbers)\n",
        "print(list(odds))\n",
        "\n",
        "# The filter() filtered for the True condition"
      ],
      "metadata": {
        "colab": {
          "base_uri": "https://localhost:8080/"
        },
        "id": "4FKHDaI8gzEh",
        "outputId": "3b24645e-abc7-4a2c-ff51-34279ed5c714"
      },
      "execution_count": 21,
      "outputs": [
        {
          "output_type": "stream",
          "name": "stdout",
          "text": [
            "[1, 3, 5, 7, 9, 11, 13, 15, 17, 19]\n"
          ]
        }
      ]
    },
    {
      "cell_type": "markdown",
      "source": [
        "**Python - Reduce Function**\n",
        "\n",
        "The reduce() function is defined in the functools module and we should import it from this module. Like map and filter it takes two parameters, a function and an iterable. However, it does not return another iterable, instead it returns a single value"
      ],
      "metadata": {
        "id": "XJ5EjMpqjkZn"
      }
    },
    {
      "cell_type": "code",
      "source": [
        "from functools import reduce # reduce() has to be imported from this library\n",
        "\n",
        "numbers = list(range(20)) # iterable\n",
        "\n",
        "def cumsum(x,y):\n",
        "  return x + y\n",
        "\n",
        "result = reduce(cumsum,numbers)\n",
        "print(result)\n"
      ],
      "metadata": {
        "colab": {
          "base_uri": "https://localhost:8080/"
        },
        "id": "sOMpfaacjoYd",
        "outputId": "fb413cdf-94fa-4aec-ed01-cbddb4b15a40"
      },
      "execution_count": 31,
      "outputs": [
        {
          "output_type": "stream",
          "name": "stdout",
          "text": [
            "190\n"
          ]
        }
      ]
    },
    {
      "cell_type": "code",
      "source": [
        "# More useful links :\n",
        "    # https://realpython.com/python-reduce-function/#exploring-functional-programming-in-python\n",
        "    # https://realpython.com/python-reduce-function/\n"
      ],
      "metadata": {
        "id": "nBKQ2EIblWU-"
      },
      "execution_count": 32,
      "outputs": []
    }
  ]
}